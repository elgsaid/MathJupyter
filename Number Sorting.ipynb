{
 "cells": [
  {
   "cell_type": "code",
   "execution_count": 2,
   "metadata": {},
   "outputs": [
    {
     "name": "stdout",
     "output_type": "stream",
     "text": [
      "How many numbers will we sort? 3\n",
      "Give me a number: 1\n",
      "Give me a number: 2\n",
      "Give me a number: 3\n",
      "[1, 2, 3]\n"
     ]
    }
   ],
   "source": [
    "n = int(input('How many numbers will we sort? '))\n",
    "numberList = []\n",
    "for x in range(0,n):\n",
    "    newNumber = int(input('Give me a number: '))\n",
    "    numberList.append(newNumber)\n",
    "numberList.sort()\n",
    "print(numberList)"
   ]
  }
 ],
 "metadata": {
  "kernelspec": {
   "display_name": "Python 3",
   "language": "python",
   "name": "python3"
  },
  "language_info": {
   "codemirror_mode": {
    "name": "ipython",
    "version": 3
   },
   "file_extension": ".py",
   "mimetype": "text/x-python",
   "name": "python",
   "nbconvert_exporter": "python",
   "pygments_lexer": "ipython3",
   "version": "3.6.4"
  }
 },
 "nbformat": 4,
 "nbformat_minor": 2
}
