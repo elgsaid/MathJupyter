{
 "cells": [
  {
   "cell_type": "code",
   "execution_count": null,
   "metadata": {},
   "outputs": [],
   "source": [
    "numberOfRolls = 100\n",
    "numberOfSides = 12\n",
    "from random import randint # a module for random integers\n",
    "resultsList = [] # create an empty list\n",
    "for x in range(0,numberOfRolls): # loop through this a number of times\n",
    "    number1 = randint(1, numberOfSides) # pick a number between 1 and 6\n",
    "    number2 = randint(1, numberOfSides) # pick another number between 1 and 6\n",
    "    total = number1 + number2 # add those two values\n",
    "    #print(total)\n",
    "    resultsList += [total] # append the sum to the resultsList\n",
    "from collections import Counter\n",
    "counts = Counter(resultsList) # count how many times we got each sum\n",
    "import matplotlib.pyplot as plot\n",
    "plot.bar(counts.keys(),counts.values()) # create a bar graph from that count\n",
    "plot.show()"
   ]
  },
  {
   "cell_type": "code",
   "execution_count": null,
   "metadata": {
    "collapsed": true
   },
   "outputs": [],
   "source": [
    "numberOfRolls = 10000\n",
    "from random import randint # a module for random integers\n",
    "resultsList = [] # create an empty list\n",
    "for x in range(0,numberOfRolls): # loop through this a number of times\n",
    "    number1 = randint(1, 6) # pick a number between 1 and 6\n",
    "    number2 = randint(1, 6) # pick another number between 1 and 6\n",
    "    total = number1 + number2 # add those two values\n",
    "    resultsList += [total] # append the sum to the resultsList\n",
    "from collections import Counter\n",
    "counts = Counter(resultsList) # count how many times we got each sum\n",
    "import matplotlib.pyplot as plot\n",
    "plot.bar(counts.keys(),counts.values()) # create a bar graph from that count\n",
    "plot.show()"
   ]
  }
 ],
 "metadata": {
  "kernelspec": {
   "display_name": "Python 3",
   "language": "python",
   "name": "python3"
  },
  "language_info": {
   "codemirror_mode": {
    "name": "ipython",
    "version": 3
   },
   "file_extension": ".py",
   "mimetype": "text/x-python",
   "name": "python",
   "nbconvert_exporter": "python",
   "pygments_lexer": "ipython3",
   "version": "3.6.4"
  }
 },
 "nbformat": 4,
 "nbformat_minor": 2
}
