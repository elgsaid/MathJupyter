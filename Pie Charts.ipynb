{
 "cells": [
  {
   "cell_type": "markdown",
   "metadata": {},
   "source": [
    "## Pie Charts\n",
    "A [pie chart](https://en.wikipedia.org/wiki/Pie_chart) \"is a circular statistical graphic which is divided into slices to illustrate numerical proportion.\"\n",
    "\n",
    "In other words, it's like a pie where the different sized slices represent different percentages of the whole.\n",
    "\n",
    "Here's a pie chart of the first languages that people speak in Canada, using data from [Wikipedia](https://en.wikipedia.org/wiki/Languages_of_Canada)."
   ]
  },
  {
   "cell_type": "code",
   "execution_count": null,
   "metadata": {},
   "outputs": [],
   "source": [
    "import matplotlib.pyplot as plt\n",
    "labels = ['English', 'French', 'Aboriginal Language', 'Other']\n",
    "sizes = [56.9, 21.3, 0.6, 21.2]\n",
    "plt.title('First Languages in Canada')\n",
    "plt.pie(sizes, labels=labels)\n",
    "plt.axis('equal') # this means draw it as a circle\n",
    "plt.show()"
   ]
  },
  {
   "cell_type": "markdown",
   "metadata": {},
   "source": [
    "Do a quick survey of the class to see how many left-handed and right-handed people there are.\n",
    "\n",
    "Put those values into the \"sizes\" list instead of the numbers that are there."
   ]
  },
  {
   "cell_type": "code",
   "execution_count": null,
   "metadata": {},
   "outputs": [],
   "source": [
    "import matplotlib.pyplot as plt\n",
    "labels = ['left-handed', 'right-handed']\n",
    "sizes = [3, 7]\n",
    "plt.title('Handedness of People in our Class')\n",
    "plt.pie(sizes, labels=labels)\n",
    "plt.axis('equal')\n",
    "plt.show()"
   ]
  },
  {
   "cell_type": "markdown",
   "metadata": {},
   "source": [
    "Apparently 5% to 30% of the world's population is left-handed, according to [this article](https://en.wikipedia.org/wiki/Handedness). Does our class data fit in that range?"
   ]
  },
  {
   "cell_type": "markdown",
   "metadata": {},
   "source": []
  },
  {
   "cell_type": "markdown",
   "metadata": {},
   "source": [
    "Decide on another statistic to collect about our class, and make a pie chart of the results."
   ]
  },
  {
   "cell_type": "code",
   "execution_count": null,
   "metadata": {},
   "outputs": [],
   "source": [
    "import matplotlib.pyplot as plt\n",
    "labels = []\n",
    "sizes = []\n",
    "plt.title('')\n",
    "\n",
    "plt.pie(sizes, labels=labels)\n",
    "plt.axis('equal')\n",
    "plt.show()"
   ]
  }
 ],
 "metadata": {
  "kernelspec": {
   "display_name": "Python 3",
   "language": "python",
   "name": "python3"
  },
  "language_info": {
   "codemirror_mode": {
    "name": "ipython",
    "version": 3
   },
   "file_extension": ".py",
   "mimetype": "text/x-python",
   "name": "python",
   "nbconvert_exporter": "python",
   "pygments_lexer": "ipython3",
   "version": "3.6.4"
  }
 },
 "nbformat": 4,
 "nbformat_minor": 2
}
