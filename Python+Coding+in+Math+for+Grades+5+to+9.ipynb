{
 "cells": [
  {
   "cell_type": "markdown",
   "metadata": {
    "slideshow": {
     "slide_type": "slide"
    }
   },
   "source": [
    "# Python Coding in Math for Grades 5 to 9\n",
    "David.Hay@eips.ca\n",
    "\n",
    "\n",
    "@misterhay"
   ]
  },
  {
   "cell_type": "markdown",
   "metadata": {
    "slideshow": {
     "slide_type": "slide"
    }
   },
   "source": [
    "## Why Python?\n",
    "- Easy syntax\n",
    "    -  focus on computational thinking more than searching for punctuation\n",
    "- Powerful\n",
    "    -   students can grow into it\n",
    "- Libraries\n",
    "    -  e.g. data analysis, turtle graphics, Requests, machine learning\n",
    "- Great online resources\n",
    "    -  and books"
   ]
  },
  {
   "cell_type": "markdown",
   "metadata": {
    "slideshow": {
     "slide_type": "slide"
    }
   },
   "source": [
    "## Why Jupyter?\n",
    "- Free for us and students\n",
    "    -  provided by __[Cybera](http://cybera.ca)__ and __[PIMS](http://pims.math.ca)__\n",
    "- Cross-platform\n",
    "    -  only requires a browser and a Google account\n",
    "- Allows for text (markdown) and code\n",
    "    -  and this cool slideshow thing\n",
    "- Can be shared\n",
    "    -  including on GitHub"
   ]
  },
  {
   "cell_type": "markdown",
   "metadata": {
    "slideshow": {
     "slide_type": "slide"
    }
   },
   "source": [
    "## Getting Started\n",
    "1. Visit __[cybera.syzygy.ca](https://cybera.syzygy.ca)__ and sign in with a Google account.\n",
    "2. Start your server.\n",
    "3. Create a new Python 3 notebook."
   ]
  },
  {
   "cell_type": "markdown",
   "metadata": {
    "slideshow": {
     "slide_type": "slide"
    }
   },
   "source": [
    "## Graphing\n",
    "There are a number of options, but I like `matplotlib`.\n",
    "Here's an example scatterplot:"
   ]
  },
  {
   "cell_type": "code",
   "execution_count": null,
   "metadata": {
    "collapsed": true,
    "slideshow": {
     "slide_type": "subslide"
    }
   },
   "outputs": [],
   "source": [
    "import matplotlib.pyplot as plot \n",
    "plot.scatter(3,6)\n",
    "plot.xlim(0,7) # xlim and ylim are optional\n",
    "plot.ylim(0,7)\n",
    "plot.show()"
   ]
  },
  {
   "cell_type": "markdown",
   "metadata": {
    "slideshow": {
     "slide_type": "slide"
    }
   },
   "source": [
    "and another way of doing scatterplots:"
   ]
  },
  {
   "cell_type": "code",
   "execution_count": null,
   "metadata": {
    "collapsed": true,
    "slideshow": {
     "slide_type": "subslide"
    }
   },
   "outputs": [],
   "source": [
    "import matplotlib.pyplot as plot \n",
    "x = [1, 2, 3, 4, 5]\n",
    "y = [3, 5, 7, 9, 11]\n",
    "plot.scatter(x, y, color='red')\n",
    "plot.xlabel('horizontal (x) axis')\n",
    "plot.ylabel('vertical (y) axis')\n",
    "plot.xlim(0,8)\n",
    "plot.ylim(0,12)\n",
    "plot.grid(True)\n",
    "plot.show()"
   ]
  },
  {
   "cell_type": "markdown",
   "metadata": {
    "slideshow": {
     "slide_type": "slide"
    }
   },
   "source": [
    "Other chart types:"
   ]
  },
  {
   "cell_type": "code",
   "execution_count": null,
   "metadata": {
    "collapsed": true,
    "slideshow": {
     "slide_type": "subslide"
    }
   },
   "outputs": [],
   "source": [
    "numberOfRolls = 10000\n",
    "from random import randint # a module for random integers\n",
    "resultsList = [] # create an empty list\n",
    "for x in range(0,numberOfRolls): # loop through this a number of times\n",
    "    number1 = randint(1, 6) # pick a number between 1 and 6\n",
    "    number2 = randint(1, 6) # pick another number between 1 and 6\n",
    "    total = number1 + number2 # add those two values\n",
    "    resultsList += [total] # append the sum to the resultsList\n",
    "from collections import Counter\n",
    "counts = Counter(resultsList) # count how many times we got each sum\n",
    "\n",
    "import matplotlib.pyplot as plot\n",
    "plot.bar(list(counts.keys()),counts.values()) # create a bar graph from that count\n",
    "plot.show()"
   ]
  },
  {
   "cell_type": "code",
   "execution_count": null,
   "metadata": {
    "collapsed": true,
    "slideshow": {
     "slide_type": "subslide"
    }
   },
   "outputs": [],
   "source": [
    "import matplotlib.pyplot as plot\n",
    "labels = \"love Python\", \"don't love Python yet\", \"undecided\"\n",
    "sizes = [20, 65, 15]\n",
    "plot.pie(sizes, labels=labels)\n",
    "plot.axis('equal')  # Equal aspect ratio ensures that pie is drawn as a circle. https://matplotlib.org/gallery/pie_and_polar_charts/pie_features.html\n",
    "plot.show()"
   ]
  },
  {
   "cell_type": "code",
   "execution_count": null,
   "metadata": {
    "collapsed": true,
    "slideshow": {
     "slide_type": "subslide"
    }
   },
   "outputs": [],
   "source": [
    "import matplotlib.pyplot as plot\n",
    "import numpy\n",
    "\n",
    "xmin = -5\n",
    "xmax = 5\n",
    "x = numpy.linspace(xmin,xmax,100) # 100 evenly spaced points between xmin and xmax\n",
    "y = x**2 + 2*x + 1\n",
    "plot.plot(x,y)\n",
    "plot.xlim(xmin,xmax)\n",
    "plot.ylim(0,15)\n",
    "plot.show()"
   ]
  },
  {
   "cell_type": "code",
   "execution_count": null,
   "metadata": {
    "collapsed": true,
    "slideshow": {
     "slide_type": "subslide"
    }
   },
   "outputs": [],
   "source": [
    "# Number Line\n",
    "import matplotlib.pyplot as plot\n",
    "\n",
    "n = input('How many numbers will we put on the line? ')\n",
    "\n",
    "for x in range(0, int(n)):\n",
    "    newNumber = input('Give me a number: ')\n",
    "    plot.scatter(newNumber,0)\n",
    "plot.grid(True)\n",
    "plot.show()"
   ]
  },
  {
   "cell_type": "markdown",
   "metadata": {
    "slideshow": {
     "slide_type": "slide"
    }
   },
   "source": [
    "## Turtles\n",
    "Great for teaching geometry and/or introducing computational thinking.\n",
    "First we need to install a library, go back to the Jupyter home, start a new terminal, and say   \n",
    "__`pip install mobilechelonian`__   \n",
    "then restart any running notebooks."
   ]
  },
  {
   "cell_type": "code",
   "execution_count": null,
   "metadata": {
    "collapsed": true,
    "slideshow": {
     "slide_type": "slide"
    }
   },
   "outputs": [],
   "source": [
    "from mobilechelonian import Turtle\n",
    "\n",
    "leonardo = Turtle()\n",
    "leonardo.pencolor('blue')\n",
    "leonardo.backward(75)\n",
    "leonardo.left(45)\n",
    "leonardo.forward(75)\n",
    "leonardo.penup()\n",
    "leonardo.home()\n",
    "leonardo.forward(50)"
   ]
  },
  {
   "cell_type": "markdown",
   "metadata": {
    "slideshow": {
     "slide_type": "slide"
    }
   },
   "source": [
    "## Computational Thinking with Python Turtles"
   ]
  },
  {
   "cell_type": "code",
   "execution_count": null,
   "metadata": {
    "collapsed": true,
    "slideshow": {
     "slide_type": "subslide"
    }
   },
   "outputs": [],
   "source": [
    "from mobilechelonian import Turtle\n",
    "t = Turtle()\n",
    "colors = ['red', 'orange', 'yellow', 'green', 'blue', 'purple']\n",
    "multiplier = 10\n",
    "for x in range(0,6):\n",
    "    t.pencolor(colors[x])\n",
    "    print(x)\n",
    "    if x % 2 == 0: # if x is even\n",
    "        t.left(x * multiplier)\n",
    "    else: \n",
    "        t.right(x * multiplier)\n",
    "    t.forward(x * multiplier)\n",
    "print('Done')"
   ]
  },
  {
   "cell_type": "markdown",
   "metadata": {
    "slideshow": {
     "slide_type": "slide"
    }
   },
   "source": [
    "## Calculating with Python"
   ]
  },
  {
   "cell_type": "code",
   "execution_count": null,
   "metadata": {
    "collapsed": true,
    "slideshow": {
     "slide_type": "subslide"
    }
   },
   "outputs": [],
   "source": [
    "# Grade 5\n",
    "n = input('How many numbers will we sort? ')\n",
    "numberList = []\n",
    "\n",
    "for x in range(0, int(n)):\n",
    "    newNumber = input('Give me a number: ')\n",
    "    numberList.append(newNumber)\n",
    "numberList.sort()\n",
    "print(numberList)"
   ]
  },
  {
   "cell_type": "code",
   "execution_count": null,
   "metadata": {
    "collapsed": true,
    "slideshow": {
     "slide_type": "subslide"
    }
   },
   "outputs": [],
   "source": [
    "# Grade 6\n",
    "print(22/7)\n",
    "\n",
    "x = 24\n",
    "print('Factors of', x, 'are:')\n",
    "for i in range(1, x + 1):\n",
    "    if x % i == 0:\n",
    "        print(i)"
   ]
  }
 ],
 "metadata": {
  "celltoolbar": "Slideshow",
  "kernelspec": {
   "display_name": "Python 3",
   "language": "python",
   "name": "python3"
  },
  "language_info": {
   "codemirror_mode": {
    "name": "ipython",
    "version": 3
   },
   "file_extension": ".py",
   "mimetype": "text/x-python",
   "name": "python",
   "nbconvert_exporter": "python",
   "pygments_lexer": "ipython3",
   "version": "3.6.2"
  }
 },
 "nbformat": 4,
 "nbformat_minor": 2
}
