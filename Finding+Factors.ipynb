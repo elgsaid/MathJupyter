{
 "cells": [
  {
   "cell_type": "markdown",
   "metadata": {},
   "source": [
    "## Finding Factors\n",
    "Factors of a number can be multiplied to form that number.\n",
    "\n",
    "For example, the factors of 6 are 1, 2, 3, and 6 ($1 \\times 6 = 6$ and $ 2 \\times 3 = 6$).\n",
    "\n",
    "A number is prime if it has just two factors (1 and itself). A number with more than two factors is a composite number.\n",
    "\n",
    "Let's write a little script to find the factors of a number. To start we will create a list to hold the factors."
   ]
  },
  {
   "cell_type": "code",
   "execution_count": null,
   "metadata": {},
   "outputs": [],
   "source": [
    "factors = []"
   ]
  },
  {
   "cell_type": "markdown",
   "metadata": {},
   "source": [
    "As an example, let's figure of the factors of 6. We'll divide 6 by each number from 1 to 6, if the remainder is 0 then 6 is divisible by that number."
   ]
  },
  {
   "cell_type": "code",
   "execution_count": null,
   "metadata": {},
   "outputs": [],
   "source": [
    "factors = []\n",
    "number = 6\n",
    "for factor in range(1, number):\n",
    "    if number % factor == 0: # if the remainder of that division is 0 then...\n",
    "        factors.append(factor) # append the factor we just found to our list of factors\n",
    "factors.append(number) # we know that a number is always divisible by itself, so append that\n",
    "print(factors) # print the list of factors"
   ]
  },
  {
   "cell_type": "markdown",
   "metadata": {},
   "source": [
    "We found the factors of 6, which we knew already, so let's modify the script to ask for a number then find its factors."
   ]
  },
  {
   "cell_type": "code",
   "execution_count": null,
   "metadata": {},
   "outputs": [],
   "source": [
    "number = int(input('What number to do you want to find factors of? '))\n",
    "factors = []\n",
    "for factor in range(1, number):\n",
    "    if number % factor == 0:\n",
    "        factors.append(factor)\n",
    "factors.append(number)\n",
    "print('The factors of ',number,'are',factors)"
   ]
  },
  {
   "cell_type": "markdown",
   "metadata": {},
   "source": [
    "If we want to see each factor as it is found, which might be useful for numbers with a lot of factors, we can add a print statement inside the loop."
   ]
  },
  {
   "cell_type": "code",
   "execution_count": null,
   "metadata": {},
   "outputs": [],
   "source": [
    "number = int(input('What number to do you want to find factors of? '))\n",
    "factors = []\n",
    "for factor in range(1, number):\n",
    "    if number % factor == 0:\n",
    "        print(factor)\n",
    "        factors.append(factor)\n",
    "factors.append(number)\n",
    "print('The factors of ',number,'are',factors)"
   ]
  },
  {
   "cell_type": "markdown",
   "metadata": {},
   "source": [
    "Of course we wanted to find factors of really large numbers then we could use some shortcuts to make it easier, but this should be good enough for now. If you find your program is running too long (It says __In[*]:__ but doesn't seem to be doing anything), you can hold the ___ctrl___ key and press __c__ to cancel it.\n",
    "\n",
    "Let's add a little more code to check if the number is prime or composite."
   ]
  },
  {
   "cell_type": "code",
   "execution_count": null,
   "metadata": {},
   "outputs": [],
   "source": [
    "number = int(input('What number to do you want to find factors of? '))\n",
    "factors = []\n",
    "for factor in range(1, number):\n",
    "    if number % factor == 0:\n",
    "        print(factor)\n",
    "        factors.append(factor)\n",
    "factors.append(number)\n",
    "print('The factors of ',number,'are',factors)\n",
    "if len(factors) == 2: # if there are only two factors in the list\n",
    "    print(number, 'is a prime number.')\n",
    "else:\n",
    "    print(number, 'is a composite number.')"
   ]
  },
  {
   "cell_type": "markdown",
   "metadata": {},
   "source": [
    "Now you have some Python code you can use to find the factors of a number and check if that number is prime or composite."
   ]
  }
 ],
 "metadata": {
  "kernelspec": {
   "display_name": "Python 3",
   "language": "python",
   "name": "python3"
  },
  "language_info": {
   "codemirror_mode": {
    "name": "ipython",
    "version": 3
   },
   "file_extension": ".py",
   "mimetype": "text/x-python",
   "name": "python",
   "nbconvert_exporter": "python",
   "pygments_lexer": "ipython3",
   "version": "3.6.2"
  }
 },
 "nbformat": 4,
 "nbformat_minor": 2
}
